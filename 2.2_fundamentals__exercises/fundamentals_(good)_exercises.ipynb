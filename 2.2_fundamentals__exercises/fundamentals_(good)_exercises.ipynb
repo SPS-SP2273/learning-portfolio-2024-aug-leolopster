{
 "cells": [
  {
   "attachments": {},
   "cell_type": "markdown",
   "id": "123456",
   "metadata": {},
   "source": [
    "<div style=\"text-align:left;font-size:2em\"><span style=\"font-weight:bolder;font-size:1.25em\">SP2273 | Learning Portfolio</span><br><br><span style=\"font-weight:bold;color:darkred\">Fundamentals (Good) Exercises</span></div>"
   ]
  },
  {
   "cell_type": "markdown",
   "id": "757f12b2-a06d-405c-beee-6437896a8243",
   "metadata": {},
   "source": [
    "**Exercise 1 (f-strings to the rescue)**"
   ]
  },
  {
   "cell_type": "code",
   "execution_count": 2,
   "id": "42e3ba7f-c9ab-4b69-8ec5-a82a8f71f6b6",
   "metadata": {},
   "outputs": [
    {
     "name": "stdin",
     "output_type": "stream",
     "text": [
      "What's your name? LEO\n"
     ]
    },
    {
     "name": "stdout",
     "output_type": "stream",
     "text": [
      "How you doin LEO!\n"
     ]
    }
   ],
   "source": [
    "n = input(\"What's your name?\")\n",
    "print(f'How you doin {n}!')"
   ]
  },
  {
   "cell_type": "code",
   "execution_count": 3,
   "id": "182e0e65-d7d6-427d-a16f-c31ea95b69f0",
   "metadata": {},
   "outputs": [
    {
     "name": "stdin",
     "output_type": "stream",
     "text": [
      "What's your name? LRO\n",
      "How old are you? 02\n"
     ]
    },
    {
     "name": "stdout",
     "output_type": "stream",
     "text": [
      "My name is LRO and I am 02 years old.\n"
     ]
    }
   ],
   "source": [
    "n = input(\"What's your name?\")\n",
    "y = input(\"How old are you?\")\n",
    "print(f'My name is {n} and I am {y} years old.')"
   ]
  },
  {
   "cell_type": "code",
   "execution_count": 10,
   "id": "591d2799-8988-486c-acc6-e9aa03c55feb",
   "metadata": {},
   "outputs": [
    {
     "name": "stdout",
     "output_type": "stream",
     "text": [
      "The value of pi to 2 decimal places is: 3.14\n",
      "The value of pi to 3 decimal places is: 3.142\n",
      "The value of pi to 4 decimal places is: 3.1416\n"
     ]
    }
   ],
   "source": [
    "pi = 3.141592653589793\n",
    "print(f\"The value of pi to 2 decimal places is: {round(pi, 2)}\")\n",
    "print(f\"The value of pi to 3 decimal places is: {round(pi, 3)}\")\n",
    "print(f\"The value of pi to 4 decimal places is: {round(pi, 4)}\")"
   ]
  },
  {
   "cell_type": "markdown",
   "id": "1386c67f-83a8-41fc-98e9-7df3c96afd95",
   "metadata": {},
   "source": [
    "**Exercise 2 (What is your grade?)**"
   ]
  },
  {
   "cell_type": "code",
   "execution_count": 4,
   "id": "d4211471-2443-4e25-a548-95d5c72e0627",
   "metadata": {},
   "outputs": [
    {
     "name": "stdin",
     "output_type": "stream",
     "text": [
      "Enter the student's score: 23\n"
     ]
    },
    {
     "name": "stdout",
     "output_type": "stream",
     "text": [
      "The student's letter grade is: Fail\n"
     ]
    }
   ],
   "source": [
    "s = float(input(\"Enter the student's score:\"))\n",
    "if s < 0 or s > 100:\n",
    "    print('Input a score between 0 and 100.')\n",
    "elif s <= 34:\n",
    "    print(\"The student's letter grade is: Fail\")\n",
    "elif s <= 49:\n",
    "    print(\"The student's letter grade is: C\")\n",
    "elif s <= 69:\n",
    "    print(\"The student's letter grade is: B\")\n",
    "else:\n",
    "    print(\"The student's letter grade is: A\")"
   ]
  },
  {
   "cell_type": "markdown",
   "id": "a2b04e77-192e-4dee-9552-0ce27c6c8471",
   "metadata": {},
   "source": [
    "**Exercise 3 (Debugging Code)**"
   ]
  },
  {
   "cell_type": "code",
   "execution_count": 8,
   "id": "5d3649db-e8e1-43ec-bc38-e55e987eacbe",
   "metadata": {},
   "outputs": [
    {
     "name": "stdout",
     "output_type": "stream",
     "text": [
      "120\n",
      "Invalid input\n"
     ]
    }
   ],
   "source": [
    "def factorial(n):\n",
    "    if n < 0:\n",
    "        return \"Invalid input\"\n",
    "    elif n == 0:\n",
    "        return 1\n",
    "    else:\n",
    "        result = 1\n",
    "        for number in range(1, n+1):\n",
    "            result *= number\n",
    "        return result\n",
    "\n",
    "print(factorial(5))   # Testing, expected output: 120\n",
    "print(factorial(-1))  # Testing, expected output: Invalid input"
   ]
  }
 ],
 "metadata": {
  "kernelspec": {
   "display_name": "Python 3 (ipykernel)",
   "language": "python",
   "name": "python3"
  },
  "language_info": {
   "codemirror_mode": {
    "name": "ipython",
    "version": 3
   },
   "file_extension": ".py",
   "mimetype": "text/x-python",
   "name": "python",
   "nbconvert_exporter": "python",
   "pygments_lexer": "ipython3",
   "version": "3.10.14"
  },
  "toc": {
   "base_numbering": 1,
   "nav_menu": {},
   "number_sections": true,
   "sideBar": true,
   "skip_h1_title": false,
   "title_cell": "Table of Contents",
   "title_sidebar": "Contents",
   "toc_cell": false,
   "toc_position": {},
   "toc_section_display": true,
   "toc_window_display": false
  },
  "vscode": {
   "interpreter": {
    "hash": "31f2aee4e71d21fbe5cf8b01ff0e069b9275f58929596ceb00d14d90e3e16cd6"
   }
  }
 },
 "nbformat": 4,
 "nbformat_minor": 5
}
