{
 "cells": [
  {
   "attachments": {},
   "cell_type": "markdown",
   "id": "123456",
   "metadata": {},
   "source": [
    "<div style=\"text-align:left;font-size:2em\"><span style=\"font-weight:bolder;font-size:1.25em\">SP2273 | Learning Portfolio</span><br><br><span style=\"font-weight:bold;color:darkred\">Fundamentals (Need) Exercises</span></div>"
   ]
  },
  {
   "cell_type": "markdown",
   "id": "0f080e13-30d8-4896-bbd7-8e68fd951a9f",
   "metadata": {},
   "source": [
    "**Exercise 1 (Total recall?)**\n",
    "1. Python is interpreted.\n",
    "2. Python is case-sensitive when it comes to function or variable names.\n",
    "3. 'HAHA' is a string while HAHA is a variable.\n",
    "4. Make a comment with #\n",
    "5. '=' is used to assign value to a variable, while '==' is used to check if two items are equal.\n",
    "6. Use 'if' make decisions.\n",
    "7. tuple: (), list: [], dictionary: {}\n",
    "8. Indentations are important!\n",
    "9. Use the split() function to pull words from a string and put them into a list\n",
    "10. *Use 'import' to import packages*"
   ]
  },
  {
   "cell_type": "markdown",
   "id": "ad778041-aab1-46b6-bfec-cf2862004087",
   "metadata": {},
   "source": [
    "**Exercise 2 (Debug me)**"
   ]
  },
  {
   "cell_type": "code",
   "execution_count": 5,
   "id": "9d0791a7-7062-4526-98fd-f8473af9d43f",
   "metadata": {},
   "outputs": [
    {
     "name": "stdout",
     "output_type": "stream",
     "text": [
      "3 4 5.0\n"
     ]
    }
   ],
   "source": [
    "import math\n",
    "\n",
    "\n",
    "x, y = 3, 4\n",
    "z = math.sqrt(x**2 + y**2)\n",
    "print(x, y, z)"
   ]
  },
  {
   "cell_type": "markdown",
   "id": "40c002bc-386d-4616-9fa5-0959f1657c63",
   "metadata": {},
   "source": [
    "**Exercise 3 (In your own words)**"
   ]
  },
  {
   "cell_type": "markdown",
   "id": "e477419d-68e3-475c-a7aa-d403b98e1a57",
   "metadata": {},
   "source": [
    " No. | Term | Description\n",
    ":-:| :-   | :-\n",
    "1 | Function | A packet of commands that accepts input arguments and can return values.\n",
    "2 | Arguments | A value input into a function to be used by the function.\n",
    "3 | Comments | Text that is marked-down and will not be interpreted (executed).\n",
    "4 | Indentations | A way to tell the Python interpreter to consider lines of code as part of a function (during function definition) or a decision statement.\n",
    "5 | Packages | Sets of extra functions beyond basic Python that can be imported for later use.\n",
    "6 | . | Used to indicate owenership of a function when calling. \n",
    "7 | : | Used at the end of 'def' line or decisions such as 'if', 'else', and 'elif'.\n",
    "8 | [] | A list, which stores indexed values and is mutable.\n",
    "9 | [[],[]] | A list containing two sublists (a 2D list).\n",
    "10 | {} | A dictionary, which stores key-value pairs and is mutable."
   ]
  },
  {
   "cell_type": "markdown",
   "id": "e9608186-1713-44a8-b3aa-db9857a435c2",
   "metadata": {},
   "source": [
    "**Exercise 4 (More than one way to divide)**"
   ]
  },
  {
   "cell_type": "code",
   "execution_count": 7,
   "id": "e03b7432-0ec1-436f-99d0-47452187dedc",
   "metadata": {},
   "outputs": [
    {
     "name": "stdout",
     "output_type": "stream",
     "text": [
      "2.5 2 1\n"
     ]
    }
   ],
   "source": [
    "print(5/2, 5//2, 5%2)"
   ]
  },
  {
   "cell_type": "markdown",
   "id": "32b14708-05ea-4cd9-b200-ba73e73a3b9a",
   "metadata": {},
   "source": [
    "/ : Regular Division (produces a float)\n",
    "\n",
    "// : Floor Division\n",
    "\n",
    "% : Modulo (take the remain of division)"
   ]
  }
 ],
 "metadata": {
  "kernelspec": {
   "display_name": "Python 3 (ipykernel)",
   "language": "python",
   "name": "python3"
  },
  "language_info": {
   "codemirror_mode": {
    "name": "ipython",
    "version": 3
   },
   "file_extension": ".py",
   "mimetype": "text/x-python",
   "name": "python",
   "nbconvert_exporter": "python",
   "pygments_lexer": "ipython3",
   "version": "3.10.14"
  },
  "toc": {
   "base_numbering": 1,
   "nav_menu": {},
   "number_sections": true,
   "sideBar": true,
   "skip_h1_title": false,
   "title_cell": "Table of Contents",
   "title_sidebar": "Contents",
   "toc_cell": false,
   "toc_position": {},
   "toc_section_display": true,
   "toc_window_display": false
  },
  "vscode": {
   "interpreter": {
    "hash": "31f2aee4e71d21fbe5cf8b01ff0e069b9275f58929596ceb00d14d90e3e16cd6"
   }
  }
 },
 "nbformat": 4,
 "nbformat_minor": 5
}
