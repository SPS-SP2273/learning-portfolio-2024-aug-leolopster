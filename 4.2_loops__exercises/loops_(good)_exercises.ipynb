{
 "cells": [
  {
   "attachments": {},
   "cell_type": "markdown",
   "id": "123456",
   "metadata": {},
   "source": [
    "<div style=\"text-align:left;font-size:2em\"><span style=\"font-weight:bolder;font-size:1.25em\">SP2273 | Learning Portfolio</span><br><br><span style=\"font-weight:bold;color:darkred\">Loops (Good) Exercises</span></div>"
   ]
  },
  {
   "cell_type": "markdown",
   "id": "38da08f7-9014-492d-94a5-5108df2a73fa",
   "metadata": {},
   "source": [
    "**Exercise 1 (Make me an odd list)**\n",
    "\n",
    "With your knowledge of growing lists, use a for loop with range() and continue to generate a list of the squares of the odd integers from 0 to 9.\r\n",
    "\r\n",
    "Hint: You can check for ‘evenness’ using number % 2 == 0."
   ]
  },
  {
   "cell_type": "code",
   "execution_count": 23,
   "id": "24efa683-038a-4b99-8ba7-2fb03dae7f43",
   "metadata": {},
   "outputs": [
    {
     "name": "stdout",
     "output_type": "stream",
     "text": [
      "[1, 9, 25, 49, 81]\n"
     ]
    }
   ],
   "source": [
    "l = []\n",
    "for i in range(10):\n",
    "    if i % 2 == 0:\n",
    "        continue\n",
    "    else:\n",
    "        l.append(i ** 2)\n",
    "print(l)"
   ]
  },
  {
   "cell_type": "markdown",
   "id": "688570c3-0f54-420a-9113-a79a08049b87",
   "metadata": {},
   "source": [
    "**Exercise 2 (Make me another odd list)**\n",
    "\n",
    "Redo the previous exercise using list comprehension."
   ]
  },
  {
   "cell_type": "code",
   "execution_count": 8,
   "id": "17e006af-c4f3-42f3-b660-69ef286f8890",
   "metadata": {},
   "outputs": [
    {
     "name": "stdout",
     "output_type": "stream",
     "text": [
      "[1, 9, 25, 49, 81]\n"
     ]
    }
   ],
   "source": [
    "print([i ** 2 for i in range(10) if i % 2 != 0])"
   ]
  },
  {
   "cell_type": "markdown",
   "id": "04f0efd0-06cf-483e-a185-93a642a9d149",
   "metadata": {},
   "source": [
    "**Exercise 3 (Time me!)**\n",
    "\n",
    "Use the cell magic command `%%timeit` to time the previous solutions. Which of the two is faster?"
   ]
  },
  {
   "cell_type": "code",
   "execution_count": 4,
   "id": "ac0cca35-8e7c-4578-ae0e-0356a14005b7",
   "metadata": {},
   "outputs": [
    {
     "name": "stdout",
     "output_type": "stream",
     "text": [
      "7.36 μs ± 1.24 μs per loop (mean ± std. dev. of 7 runs, 100,000 loops each)\n"
     ]
    }
   ],
   "source": [
    "%%timeit\n",
    "l = []\n",
    "for i in range(10):\n",
    "    if i % 2 == 0:\n",
    "        continue\n",
    "    else:\n",
    "        l.append(i ** 2)"
   ]
  },
  {
   "cell_type": "code",
   "execution_count": 3,
   "id": "ccd65c3e-6ee0-42ac-94bf-3d2180003573",
   "metadata": {},
   "outputs": [
    {
     "name": "stdout",
     "output_type": "stream",
     "text": [
      "6.38 μs ± 1.1 μs per loop (mean ± std. dev. of 7 runs, 100,000 loops each)\n"
     ]
    }
   ],
   "source": [
    "%%timeit\n",
    "[i ** 2 for i in range(10) if i % 2 != 0]"
   ]
  },
  {
   "cell_type": "markdown",
   "id": "44a4efc4-154c-4b6f-ad39-e71620e1e512",
   "metadata": {},
   "source": [
    "From observation of multiple trials, ~list comprehension is slightly faster than using a `for` loop with `range()`.~\n",
    "\n",
    "**the two methods are almost equally as fast.**"
   ]
  },
  {
   "cell_type": "markdown",
   "id": "0c3cac24-088f-42aa-a576-9c93874d76bf",
   "metadata": {},
   "source": [
    "**Exercise 4 (A problem of decay)**\n",
    "\n",
    "The initial quantity of a sample of a radioactive substance is 100 units, and it decays by 5% each year. Use a while loop to determine how long the sample will take to reduce to half its original amount."
   ]
  },
  {
   "cell_type": "code",
   "execution_count": 44,
   "id": "95f88f74-b3e7-40ea-8bf3-c0639c122d78",
   "metadata": {},
   "outputs": [
    {
     "name": "stdout",
     "output_type": "stream",
     "text": [
      "It will take 14 years.\n"
     ]
    }
   ],
   "source": [
    "x = 100\n",
    "yr = 0\n",
    "while x > 50:\n",
    "    x *= 0.95\n",
    "    yr += 1\n",
    "print(f'It will take {yr} years.')"
   ]
  },
  {
   "cell_type": "markdown",
   "id": "9f1f91ea-7710-43cd-8450-e24f13f73f51",
   "metadata": {},
   "source": [
    "**Exercise 5 (Changes in CO$_2$)**\n",
    "\n",
    "The following is data about atmospheric CO$_2$\n",
    " levels for several years in a (year, CO2_level) format. The units are ppm\n",
    "\n",
    "Identify those years that showed an increase of CO$_2$\n",
    " of 3 ppm or more compared to the previous year.\n",
    "\r\n",
    "Please print out these years along with the corresponding change in concentration.."
   ]
  },
  {
   "cell_type": "code",
   "execution_count": 1,
   "id": "fa1376b9-4f83-43bc-8370-94ad328031cc",
   "metadata": {},
   "outputs": [
    {
     "name": "stdout",
     "output_type": "stream",
     "text": [
      "2015 ~ 2016: increased by 3.41 ppm\n",
      "\n"
     ]
    }
   ],
   "source": [
    "import numpy as np\n",
    "\n",
    "\n",
    "co2_data = [\n",
    "    (2000, 369.55), (2001, 371.14), (2002, 373.28), \n",
    "    (2003, 375.80), (2004, 377.52), (2005, 379.80), \n",
    "    (2006, 381.90), (2007, 383.79), (2008, 385.60), \n",
    "    (2009, 387.43), (2010, 389.90), (2011, 391.65), \n",
    "    (2012, 393.85), (2013, 396.52), (2014, 398.65),\n",
    "    (2015, 400.83), (2016, 404.24), (2017, 406.55), \n",
    "    (2018, 408.52), (2019, 411.44), (2020, 414.24)\n",
    "]\n",
    "\n",
    "for i in range(len(co2_data) - 1):\n",
    "    if co2_data[i+1][1] - co2_data[i][1] > 3:\n",
    "        print(f'{co2_data[i][0]} ~ {co2_data[i+1][0]}: increased by {round(co2_data[i+1][1] - co2_data[i][1], 2)} ppm')\n",
    "\n",
    "print()"
   ]
  }
 ],
 "metadata": {
  "kernelspec": {
   "display_name": "Python 3 (ipykernel)",
   "language": "python",
   "name": "python3"
  },
  "language_info": {
   "codemirror_mode": {
    "name": "ipython",
    "version": 3
   },
   "file_extension": ".py",
   "mimetype": "text/x-python",
   "name": "python",
   "nbconvert_exporter": "python",
   "pygments_lexer": "ipython3",
   "version": "3.10.14"
  },
  "toc": {
   "base_numbering": 1,
   "nav_menu": {},
   "number_sections": true,
   "sideBar": true,
   "skip_h1_title": false,
   "title_cell": "Table of Contents",
   "title_sidebar": "Contents",
   "toc_cell": false,
   "toc_position": {},
   "toc_section_display": true,
   "toc_window_display": false
  },
  "vscode": {
   "interpreter": {
    "hash": "31f2aee4e71d21fbe5cf8b01ff0e069b9275f58929596ceb00d14d90e3e16cd6"
   }
  }
 },
 "nbformat": 4,
 "nbformat_minor": 5
}
