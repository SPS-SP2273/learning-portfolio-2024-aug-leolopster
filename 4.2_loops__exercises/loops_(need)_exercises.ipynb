{
 "cells": [
  {
   "attachments": {},
   "cell_type": "markdown",
   "id": "123456",
   "metadata": {},
   "source": [
    "<div style=\"text-align:left;font-size:2em\"><span style=\"font-weight:bolder;font-size:1.25em\">SP2273 | Learning Portfolio</span><br><br><span style=\"font-weight:bold;color:darkred\">Loops (Need) Exercises</span></div>"
   ]
  },
  {
   "cell_type": "markdown",
   "id": "0880dfaf-4f5c-45bf-9555-b0678fc5a92e",
   "metadata": {},
   "source": [
    "**Exercise 1 (Celsius to Fahrenheit)**"
   ]
  },
  {
   "cell_type": "code",
   "execution_count": 24,
   "id": "58590c3c-609a-47d1-bbe1-48ef4cff5c2e",
   "metadata": {},
   "outputs": [
    {
     "name": "stdout",
     "output_type": "stream",
     "text": [
      "0°C\t= 32.0°F\n",
      "5°C\t= 41.0°F\n",
      "10°C\t= 50.0°F\n",
      "15°C\t= 59.0°F\n",
      "20°C\t= 68.0°F\n",
      "25°C\t= 77.0°F\n",
      "30°C\t= 86.0°F\n",
      "35°C\t= 95.0°F\n",
      "40°C\t= 104.0°F\n",
      "45°C\t= 113.0°F\n",
      "50°C\t= 122.0°F\n"
     ]
    }
   ],
   "source": [
    "temperatures_celsius = [\n",
    "    0, 5, 10, 15, 20, 25,\n",
    "    30, 35, 40, 45, 50\n",
    "]\n",
    "\n",
    "for i in temperatures_celsius:\n",
    "    print(f'{i}°C\\t= {i*9/5+32}°F')"
   ]
  },
  {
   "cell_type": "markdown",
   "id": "38d08659-d7ed-4a8f-9d56-a5e2d2df8948",
   "metadata": {},
   "source": [
    "**Exercise 2 (Multiplication table)**"
   ]
  },
  {
   "cell_type": "code",
   "execution_count": 58,
   "id": "c34c9f76-aa0a-4e9a-9654-a3de84125b11",
   "metadata": {},
   "outputs": [
    {
     "name": "stdout",
     "output_type": "stream",
     "text": [
      "1 : 1   2   3   4   5  \n",
      "2 : 2   4   6   8   10 \n",
      "3 : 3   6   9   12  15 \n",
      "4 : 4   8   12  16  20 \n",
      "5 : 5   10  15  20  25 \n"
     ]
    }
   ],
   "source": [
    "for i in [1, 2, 3, 4, 5]:\n",
    "    print(f'{i} :', end='')\n",
    "    for j in [1, 2, 3, 4, 5]:\n",
    "        n = i * j\n",
    "        print(f'{n:< 4}', end='')\n",
    "    print()"
   ]
  },
  {
   "cell_type": "markdown",
   "id": "5febe72a-b0b9-4ade-af88-1e7e211784d7",
   "metadata": {},
   "source": [
    "**Exercise 3 (Simulating a Coin Flip Experiment)**"
   ]
  },
  {
   "cell_type": "code",
   "execution_count": 106,
   "id": "9baf6d5d-1b61-4e8c-a6d3-8734d2708ba6",
   "metadata": {},
   "outputs": [
    {
     "name": "stdout",
     "output_type": "stream",
     "text": [
      "Experiment  1: No. of Heads = 6\n",
      "Experiment  2: No. of Heads = 6\n",
      "Experiment  3: No. of Heads = 5\n",
      "Experiment  4: No. of Heads = 3\n",
      "Experiment  5: No. of Heads = 5\n",
      "Experiment  6: No. of Heads = 7\n",
      "Experiment  7: No. of Heads = 5\n",
      "Experiment  8: No. of Heads = 6\n",
      "Experiment  9: No. of Heads = 7\n",
      "Experiment 10: No. of Heads = 2\n"
     ]
    }
   ],
   "source": [
    "import numpy as np\n",
    "\n",
    "\n",
    "for i in range(10):\n",
    "    trial = np.random.rand(10)\n",
    "    print(f'Experiment{i + 1:>3}: No. of Heads = {sum(trial > 0.5)}')"
   ]
  }
 ],
 "metadata": {
  "kernelspec": {
   "display_name": "Python 3 (ipykernel)",
   "language": "python",
   "name": "python3"
  },
  "language_info": {
   "codemirror_mode": {
    "name": "ipython",
    "version": 3
   },
   "file_extension": ".py",
   "mimetype": "text/x-python",
   "name": "python",
   "nbconvert_exporter": "python",
   "pygments_lexer": "ipython3",
   "version": "3.10.14"
  },
  "toc": {
   "base_numbering": 1,
   "nav_menu": {},
   "number_sections": true,
   "sideBar": true,
   "skip_h1_title": false,
   "title_cell": "Table of Contents",
   "title_sidebar": "Contents",
   "toc_cell": false,
   "toc_position": {},
   "toc_section_display": true,
   "toc_window_display": false
  },
  "vscode": {
   "interpreter": {
    "hash": "31f2aee4e71d21fbe5cf8b01ff0e069b9275f58929596ceb00d14d90e3e16cd6"
   }
  }
 },
 "nbformat": 4,
 "nbformat_minor": 5
}
