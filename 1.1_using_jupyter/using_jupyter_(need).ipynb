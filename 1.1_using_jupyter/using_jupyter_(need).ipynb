{
 "cells": [
  {
   "attachments": {},
   "cell_type": "markdown",
   "id": "123456",
   "metadata": {},
   "source": [
    "<div style=\"text-align:left;font-size:2em\"><span style=\"font-weight:bolder;font-size:1.25em\">SP2273 | Learning Portfolio</span><br><br><span style=\"font-weight:bold;color:darkred\">Using Jupyter (Need)</span></div>"
   ]
  },
  {
   "attachments": {},
   "cell_type": "markdown",
   "id": "5cee356b",
   "metadata": {},
   "source": [
    "# What to expect in this chapter"
   ]
  },
  {
   "attachments": {},
   "cell_type": "markdown",
   "id": "2a0bc5cc",
   "metadata": {},
   "source": [
    "# 1 Getting ready"
   ]
  },
  {
   "attachments": {},
   "cell_type": "markdown",
   "id": "a4286c0c",
   "metadata": {},
   "source": [
    "# 2 Getting started with Jupyter"
   ]
  },
  {
   "attachments": {},
   "cell_type": "markdown",
   "id": "e6458080",
   "metadata": {},
   "source": [
    "## 2.1 It is all about running cells"
   ]
  },
  {
   "attachments": {},
   "cell_type": "markdown",
   "id": "b07d921b",
   "metadata": {},
   "source": [
    "## 2.2 A traditional start"
   ]
  },
  {
   "attachments": {},
   "cell_type": "markdown",
   "id": "5acd3a0f",
   "metadata": {},
   "source": [
    "# 3 All about Markdown"
   ]
  },
  {
   "attachments": {},
   "cell_type": "markdown",
   "id": "86a268fb",
   "metadata": {},
   "source": [
    "## 3.1 Rendering Markdown cells"
   ]
  },
  {
   "cell_type": "markdown",
   "id": "e1141a9b-d32c-4f77-9221-a9e6232542eb",
   "metadata": {},
   "source": [
    "The ships hung in the sky in much the same way that bricks don’t."
   ]
  },
  {
   "attachments": {},
   "cell_type": "markdown",
   "id": "393fff98",
   "metadata": {},
   "source": [
    "## 3.2 Some basic syntax"
   ]
  },
  {
   "cell_type": "markdown",
   "id": "11aeab20-7be2-42d6-b625-2a0581480e00",
   "metadata": {},
   "source": [
    "The ships *hung in the sky* in much the same way that **bricks don't.**<sup>1</sup><sub>QUOTE</sub>"
   ]
  },
  {
   "attachments": {},
   "cell_type": "markdown",
   "id": "600a49c9",
   "metadata": {},
   "source": [
    "## 3.3 Headings"
   ]
  },
  {
   "cell_type": "markdown",
   "id": "debb8f86-0203-464b-9f9e-abde0de65e3d",
   "metadata": {},
   "source": [
    "# A\n",
    "## B\n",
    "### C\n",
    "#### D"
   ]
  },
  {
   "attachments": {},
   "cell_type": "markdown",
   "id": "792fc3fd",
   "metadata": {},
   "source": [
    "## 3.4 Displaying Code"
   ]
  },
  {
   "cell_type": "markdown",
   "id": "6394f894-ec16-41aa-bd30-cb56ae111ca0",
   "metadata": {},
   "source": [
    "```python\n",
    "print('hello world!')\n",
    "```"
   ]
  },
  {
   "attachments": {},
   "cell_type": "markdown",
   "id": "29cea2df",
   "metadata": {},
   "source": [
    "## 3.5 Links"
   ]
  },
  {
   "cell_type": "markdown",
   "id": "c6ea2b1e-ed05-433e-8a36-245dd8e97b40",
   "metadata": {},
   "source": [
    "[Description](http://localhost:8888/notebooks/Documents/GitHub/learning-portfolio-2024-aug-leolopster/1.1_using_jupyter/using_jupyter_(need).ipynb)"
   ]
  },
  {
   "attachments": {},
   "cell_type": "markdown",
   "id": "2268a9ad",
   "metadata": {},
   "source": [
    "## 3.6 Images"
   ]
  },
  {
   "cell_type": "markdown",
   "id": "eb0b7454-955f-4833-b784-41fe68fd317c",
   "metadata": {},
   "source": [
    "![](https://nus.edu.sg/images/default-source/base/logo.png)"
   ]
  },
  {
   "attachments": {},
   "cell_type": "markdown",
   "id": "9288a9bc",
   "metadata": {},
   "source": [
    "## 3.7 Tables"
   ]
  },
  {
   "cell_type": "markdown",
   "id": "bbf80ec4-f322-43b1-800c-7ce1e4470983",
   "metadata": {},
   "source": [
    "| A | B | C |\n",
    "| :-|:-:|-: |\n",
    "| a1| a2| a3|"
   ]
  },
  {
   "attachments": {},
   "cell_type": "markdown",
   "id": "1ee458b8",
   "metadata": {},
   "source": [
    "## 3.8 Lists"
   ]
  },
  {
   "cell_type": "markdown",
   "id": "494e82b3-2690-4d92-9797-578128865c7d",
   "metadata": {},
   "source": [
    "1. a\n",
    "2. b\n",
    "3. c\n",
    "    1. jcc\n",
    "    2. c\n",
    "    - 222"
   ]
  },
  {
   "attachments": {},
   "cell_type": "markdown",
   "id": "ad02a09a",
   "metadata": {},
   "source": [
    "## 3.9 Equations"
   ]
  },
  {
   "cell_type": "markdown",
   "id": "9c2acdfd-7f4f-4426-8280-50e22347753e",
   "metadata": {},
   "source": [
    "$$\n",
    "\\dfrac{-b \\pm \\sqrt{b^2-4ac}}{2a}\n",
    "$$"
   ]
  },
  {
   "attachments": {},
   "cell_type": "markdown",
   "id": "b1abdbb1",
   "metadata": {},
   "source": [
    "## Footnotes"
   ]
  }
 ],
 "metadata": {
  "kernelspec": {
   "display_name": "Python 3 (ipykernel)",
   "language": "python",
   "name": "python3"
  },
  "language_info": {
   "codemirror_mode": {
    "name": "ipython",
    "version": 3
   },
   "file_extension": ".py",
   "mimetype": "text/x-python",
   "name": "python",
   "nbconvert_exporter": "python",
   "pygments_lexer": "ipython3",
   "version": "3.10.14"
  },
  "toc": {
   "base_numbering": 1,
   "nav_menu": {},
   "number_sections": true,
   "sideBar": true,
   "skip_h1_title": false,
   "title_cell": "Table of Contents",
   "title_sidebar": "Contents",
   "toc_cell": false,
   "toc_position": {},
   "toc_section_display": true,
   "toc_window_display": false
  },
  "vscode": {
   "interpreter": {
    "hash": "31f2aee4e71d21fbe5cf8b01ff0e069b9275f58929596ceb00d14d90e3e16cd6"
   }
  }
 },
 "nbformat": 4,
 "nbformat_minor": 5
}
