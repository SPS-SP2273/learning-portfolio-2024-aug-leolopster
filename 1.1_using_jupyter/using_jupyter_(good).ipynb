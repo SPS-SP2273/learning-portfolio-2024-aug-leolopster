{
 "cells": [
  {
   "attachments": {},
   "cell_type": "markdown",
   "id": "123456",
   "metadata": {},
   "source": [
    "<div style=\"text-align:left;font-size:2em\"><span style=\"font-weight:bolder;font-size:1.25em\">SP2273 | Learning Portfolio</span><br><br><span style=\"font-weight:bold;color:darkred\">Using Jupyter (Good)</span></div>"
   ]
  },
  {
   "attachments": {},
   "cell_type": "markdown",
   "id": "2689dfe7",
   "metadata": {},
   "source": [
    "# What to expect in this chapter"
   ]
  },
  {
   "attachments": {},
   "cell_type": "markdown",
   "id": "7ef588b1",
   "metadata": {},
   "source": [
    "# 1 Some tips and tricks"
   ]
  },
  {
   "attachments": {},
   "cell_type": "markdown",
   "id": "46596f3f",
   "metadata": {},
   "source": [
    "## 1.1 Keyboard Shortcuts"
   ]
  },
  {
   "attachments": {},
   "cell_type": "markdown",
   "id": "65f3be71",
   "metadata": {},
   "source": [
    "### Things to note"
   ]
  },
  {
   "attachments": {},
   "cell_type": "markdown",
   "id": "d73a2f4c",
   "metadata": {},
   "source": [
    "## 1.2 Shell commands"
   ]
  },
  {
   "attachments": {},
   "cell_type": "markdown",
   "id": "f87dec32",
   "metadata": {},
   "source": [
    "# 2 Install Notebook 7"
   ]
  },
  {
   "attachments": {},
   "cell_type": "markdown",
   "id": "cdc4b7cd",
   "metadata": {},
   "source": [
    "# Jupyter Extensions"
   ]
  },
  {
   "attachments": {},
   "cell_type": "markdown",
   "id": "47da988a",
   "metadata": {},
   "source": [
    "## Installing the extensions"
   ]
  },
  {
   "attachments": {},
   "cell_type": "markdown",
   "id": "3e19dd64",
   "metadata": {},
   "source": [
    "## Enabling the extensions"
   ]
  },
  {
   "attachments": {},
   "cell_type": "markdown",
   "id": "931b9433",
   "metadata": {},
   "source": [
    "# 3 Shell Magic"
   ]
  },
  {
   "cell_type": "code",
   "execution_count": 7,
   "id": "5811d46d",
   "metadata": {},
   "outputs": [
    {
     "name": "stdout",
     "output_type": "stream",
     "text": [
      "34.2 ns ± 0.832 ns per loop (mean ± std. dev. of 7 runs, 10,000,000 loops each)\n"
     ]
    }
   ],
   "source": [
    "# line magic\n",
    "%timeit x=10"
   ]
  },
  {
   "cell_type": "code",
   "execution_count": 8,
   "id": "abc51be0-c308-4efa-b495-e6c3d3a8ac27",
   "metadata": {},
   "outputs": [
    {
     "name": "stderr",
     "output_type": "stream",
     "text": [
      "UsageError: Line magic function `%%lsmagic` not found.\n"
     ]
    }
   ],
   "source": [
    "# more lsmagic\n",
    "%\n",
    "lsmagic"
   ]
  },
  {
   "attachments": {},
   "cell_type": "markdown",
   "id": "053f32d1",
   "metadata": {},
   "source": [
    "# 4 The Kernel"
   ]
  }
 ],
 "metadata": {
  "kernelspec": {
   "display_name": "Python 3 (ipykernel)",
   "language": "python",
   "name": "python3"
  },
  "language_info": {
   "codemirror_mode": {
    "name": "ipython",
    "version": 3
   },
   "file_extension": ".py",
   "mimetype": "text/x-python",
   "name": "python",
   "nbconvert_exporter": "python",
   "pygments_lexer": "ipython3",
   "version": "3.10.14"
  },
  "toc": {
   "base_numbering": 1,
   "nav_menu": {},
   "number_sections": true,
   "sideBar": true,
   "skip_h1_title": false,
   "title_cell": "Table of Contents",
   "title_sidebar": "Contents",
   "toc_cell": false,
   "toc_position": {},
   "toc_section_display": true,
   "toc_window_display": false
  },
  "vscode": {
   "interpreter": {
    "hash": "31f2aee4e71d21fbe5cf8b01ff0e069b9275f58929596ceb00d14d90e3e16cd6"
   }
  }
 },
 "nbformat": 4,
 "nbformat_minor": 5
}
