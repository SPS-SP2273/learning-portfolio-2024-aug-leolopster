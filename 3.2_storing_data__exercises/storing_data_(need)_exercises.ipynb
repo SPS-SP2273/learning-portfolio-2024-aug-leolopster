{
 "cells": [
  {
   "attachments": {},
   "cell_type": "markdown",
   "id": "123456",
   "metadata": {},
   "source": [
    "<div style=\"text-align:left;font-size:2em\"><span style=\"font-weight:bolder;font-size:1.25em\">SP2273 | Learning Portfolio</span><br><br><span style=\"font-weight:bold;color:darkred\">Storing Data (Need) Exercises</span></div>"
   ]
  },
  {
   "cell_type": "markdown",
   "id": "7e2a3ba6-4a46-4021-aa0c-56b1244be833",
   "metadata": {},
   "source": [
    "**Exercise 1 (Total recall?)**\n",
    "\n",
    "Purely from memory, jot down:\n",
    "\n",
    "Two similarities between lists and arrays:\n",
    "\n",
    "1. They can both store one/multi-dimensional datasets.\n",
    "2. They are both indexed numerically.\n",
    "\n",
    "Two differences between lists and arrays:\n",
    "\n",
    "1. Math operations on arrays map to every element by default, while elements in lists can only be accessed one at a time.\n",
    "2. Lists are always technically one-dimensional and it is hard to access multi-dimensional data; arrays are modified to store data with multi-dimensional indices and we can call data by indicating the \"coordinate\" (in tuple form) of the data. \n",
    "\n",
    "What is a dictionary?\n",
    "\n",
    "1. Dictionaries are objects that store mutable information in \"key-value pairs\", where every unique \"key\" maps to a \"value\" and we can call the value by inputting the \"key\"."
   ]
  },
  {
   "cell_type": "markdown",
   "id": "5565e5ea-89c1-4b6f-9231-de397822a4c5",
   "metadata": {},
   "source": [
    "**Exercise 2 (Indexing)**\n",
    "Modify the following code to print out all elements with an odd number. I have done the one corresponding to i9 for you."
   ]
  },
  {
   "cell_type": "code",
   "execution_count": 4,
   "id": "e7f22fa2-df53-464f-8a80-9ec562ca65c1",
   "metadata": {},
   "outputs": [
    {
     "name": "stdout",
     "output_type": "stream",
     "text": [
      "a1\n",
      "c3\n",
      "e5\n",
      "g7\n",
      "i9\n"
     ]
    }
   ],
   "source": [
    "py_list = [\"a1\", \"b2\", \"c3\", \"d4\", \"e5\", \"f6\", \"g7\", \"h8\", \"i9\", \"j10\"]\n",
    "for i in range(5):\n",
    "    print(py_list[i * 2])"
   ]
  },
  {
   "cell_type": "markdown",
   "id": "1fa22854-e843-403d-bc64-4e92824dd301",
   "metadata": {},
   "source": [
    "**Exercise 3 (Index again)**\n",
    "\n",
    "1. Access and print the element at index 4 using forward indexing.\r",
    "2. \n",
    "Access and print the element at index 4 from the end of the list using reverse indexing."
   ]
  },
  {
   "cell_type": "code",
   "execution_count": 1,
   "id": "8cf465e1-264a-4bea-a98a-f267b2314a5e",
   "metadata": {},
   "outputs": [
    {
     "name": "stdout",
     "output_type": "stream",
     "text": [
      "Boron\n",
      "Boron\n"
     ]
    }
   ],
   "source": [
    "elements = ['Hydrogen',\n",
    "            'Helium', 'Lithium',\n",
    "            'Beryllium', 'Boron', 'Carbon',\n",
    "            'Nitrogen', 'Oxygen',\n",
    "            'Fluorine',\n",
    "            'Neon']\n",
    "print(elements[4])\n",
    "print(elements[-6])"
   ]
  },
  {
   "cell_type": "code",
   "execution_count": 4,
   "id": "700dbdd9-378b-467e-b058-869ae4774c6f",
   "metadata": {},
   "outputs": [
    {
     "name": "stdout",
     "output_type": "stream",
     "text": [
      "9\n",
      "9\n"
     ]
    }
   ],
   "source": [
    "import numpy\n",
    "\n",
    "#method 1\n",
    "numbers=[45, 60, 1, 30, 96, 1, 96, 57, 16, 1,\n",
    "        99, 62, 86, 43, 42, 60, 59, 1, 1, 35,\n",
    "        83, 47, 34, 28, 68, 23, 22, 92, 1, 79,\n",
    "        1, 29, 94, 72, 46, 47, 1, 74, 32, 20,\n",
    "        8, 37, 35, 1, 89, 29, 86, 19, 43, 61]\n",
    "n = numpy.array(numbers)\n",
    "print(sum(n/n == n))\n",
    "\n",
    "#method 2\n",
    "ones = [i == 1 for i in numbers]\n",
    "print(sum(ones))"
   ]
  },
  {
   "cell_type": "markdown",
   "id": "7c4add6f-1dc9-4e16-9373-b795e20d0201",
   "metadata": {},
   "source": [
    "**Exercise 5 (A Matter of Statistics)**\n",
    "The following shows the data related to $x_1$ and  $x_2$.\n",
    "Using NumPy:\n",
    "\n",
    "1. Determine the means of $x_1$ and $x_2$.\n",
    "2. Determine the standard deviations of $x_1$ and $x_2$.\n",
    "3. Determine the Pearson correlation coefficient $r$ for the two datasets. Don’t use np.corrcoef()!\n",
    "4. Compare your results to np.corrcoef().\n",
    "\n",
    "HINTS: np.mean(), np.std(), np.sum(), np.sqrt()"
   ]
  },
  {
   "cell_type": "code",
   "execution_count": 38,
   "id": "1c14d873-67bc-4e0a-8210-2573c2953981",
   "metadata": {},
   "outputs": [
    {
     "name": "stdout",
     "output_type": "stream",
     "text": [
      "mean: (38.5, 302.5)\n",
      "std: (32.41990129534635, 326.0893282522444)\n",
      "r = 0.9871796626270702\n",
      "np.corrcoef(): [[1.         0.98717966]\n",
      " [0.98717966 1.        ]]\n"
     ]
    }
   ],
   "source": [
    "import numpy as np\n",
    "\n",
    "\n",
    "x_1 = [1, 4, 9, 16, 25, 36, 49, 64, 81, 100]\n",
    "x_2 = [1, 8, 27, 64, 125, 216, 343, 512, 729, 1000]\n",
    "\n",
    "x1 = np.array(x_1)\n",
    "x2 = np.array(x_2)\n",
    "\n",
    "# 1\n",
    "mean1 = np.mean(x1)\n",
    "mean2 = np.mean(x2)\n",
    "\n",
    "# 2\n",
    "std1 = np.std(x1)\n",
    "std2 = np.std(x2)\n",
    "\n",
    "# 3\n",
    "r = (sum(x1*x2) - len(x_1)*mean1*mean2)/(len(x_1)*std1*std2)\n",
    "\n",
    "# 4\n",
    "np_r = np.corrcoef(x1, x2)\n",
    "\n",
    "print(f'mean: {mean}\\nstd: {std}\\nr = {r}\\nnp.corrcoef(): {np_r}')"
   ]
  }
 ],
 "metadata": {
  "kernelspec": {
   "display_name": "Python 3 (ipykernel)",
   "language": "python",
   "name": "python3"
  },
  "language_info": {
   "codemirror_mode": {
    "name": "ipython",
    "version": 3
   },
   "file_extension": ".py",
   "mimetype": "text/x-python",
   "name": "python",
   "nbconvert_exporter": "python",
   "pygments_lexer": "ipython3",
   "version": "3.10.14"
  },
  "toc": {
   "base_numbering": 1,
   "nav_menu": {},
   "number_sections": true,
   "sideBar": true,
   "skip_h1_title": false,
   "title_cell": "Table of Contents",
   "title_sidebar": "Contents",
   "toc_cell": false,
   "toc_position": {},
   "toc_section_display": true,
   "toc_window_display": false
  },
  "vscode": {
   "interpreter": {
    "hash": "31f2aee4e71d21fbe5cf8b01ff0e069b9275f58929596ceb00d14d90e3e16cd6"
   }
  }
 },
 "nbformat": 4,
 "nbformat_minor": 5
}
