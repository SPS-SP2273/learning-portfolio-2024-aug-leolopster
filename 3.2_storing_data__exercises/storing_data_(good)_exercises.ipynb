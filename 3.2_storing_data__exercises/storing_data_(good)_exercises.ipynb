{
 "cells": [
  {
   "attachments": {},
   "cell_type": "markdown",
   "id": "123456",
   "metadata": {},
   "source": [
    "<div style=\"text-align:left;font-size:2em\"><span style=\"font-weight:bolder;font-size:1.25em\">SP2273 | Learning Portfolio</span><br><br><span style=\"font-weight:bold;color:darkred\">Storing Data (Good) Exercises</span></div>"
   ]
  },
  {
   "cell_type": "markdown",
   "id": "cb1048e3-db1a-490c-b002-c3a4dea2e3fd",
   "metadata": {},
   "source": [
    "**Exercise 1 (Total recall)**\n",
    "\n",
    "Term | Brief description\n",
    ":-   | :-\n",
    "Subsetting | To select elements\n",
    "Indexing | To select one element\n",
    "Slicing | To select a range of elements\n",
    "Masking | Creating a filter to select elements that fit a certain criteria from a numpy array"
   ]
  },
  {
   "cell_type": "markdown",
   "id": "ba75ae5e-57ef-4570-9cae-610193043fa9",
   "metadata": {},
   "source": [
    "**Exercise 2 (Show me the ‘odd’ letters)**\n",
    "\n",
    "Use masking to subset the letters that correspond to the odd numbers. I.e., get the result `[A, C, E, G, I]`.\n",
    "\n",
    "This is a slightly tricky problem because arrays are fussy about type. So, let me give you a recipe to solve this problem.\n",
    "\n",
    "1. Subset all the first elements.\n",
    "    - You should get `array(['1', '3', '2', ..., '10', '9'])`\n",
    "2. Convert this to integers using astype(int)\n",
    "    - You must look up how `astype()` works.\n",
    "3. Use % to get the remainder for division by 2.\n",
    "    - You should get `array([1, 1, 0, ..., 0, 1])`.\n",
    "4. Use the previous result to create a mask that checks if the remainder is zero or not\n",
    "    - You should get `array([True, True, False, ..., False, True])`.\n",
    "5. Now you have identified the locations of the odd numbers.\n",
    "    - Use the mask and extract the corresponding second elements."
   ]
  },
  {
   "cell_type": "code",
   "execution_count": 17,
   "id": "27d047e3-42fd-483b-8d7a-de430c6dde0b",
   "metadata": {},
   "outputs": [
    {
     "name": "stdout",
     "output_type": "stream",
     "text": [
      "['A' 'C' 'E' 'G' 'I']\n"
     ]
    }
   ],
   "source": [
    "import numpy as np\n",
    "\n",
    "\n",
    "np_array_2d = np.array([[1, \"A\"], [3, \"C\"], [2, \"B\"], [4, \"D\"],\n",
    "                        [5, \"E\"], [7, \"G\"], [6, \"F\"], [8, \"H\"],\n",
    "                        [10, \"J\"], [9, \"I\"]])\n",
    "num1 = np.array(np_array_2d[:, 0])\n",
    "num2 = num1.astype(int)\n",
    "num3 = num2 % 2\n",
    "mask = num3 != 0\n",
    "print(np_array_2d[mask, 1])"
   ]
  },
  {
   "cell_type": "markdown",
   "id": "68d460db-ab0f-4d57-ac08-687a64ff1b0a",
   "metadata": {},
   "source": [
    "**Exercise 3**\n",
    "\n",
    "Consider the 2D array shown above. Using your knowledge of NumPy masking, change:\n",
    "\n",
    "1. values below 50 to -1,\n",
    "2. values above 50 to +1, and\n",
    "3. values equal to 50 to 0.\n",
    "\n",
    "You should end up with:\n",
    "```\n",
    "[[ 1  0  1 -1 -1]\n",
    " [ 1 -1  1 -1 -1]\n",
    " [ 1 -1 -1  1 -1]\n",
    " [-1  1  1 -1 -1]\n",
    " [ 1 -1  1 -1  1]]\n",
    "```"
   ]
  },
  {
   "cell_type": "code",
   "execution_count": 33,
   "id": "d9769d20-c3c5-4d48-8403-76081a57ea3d",
   "metadata": {},
   "outputs": [
    {
     "name": "stdout",
     "output_type": "stream",
     "text": [
      "[[ 1  0  1 -1 -1]\n",
      " [ 1 -1  1 -1 -1]\n",
      " [ 1 -1 -1  1 -1]\n",
      " [-1  1  1 -1 -1]\n",
      " [ 1 -1  1 -1  1]]\n"
     ]
    }
   ],
   "source": [
    "n = np.array([\n",
    "    [66, 50, 57, -1, -1],\n",
    "    [92, -1, 88, -1, -1],\n",
    "    [75, -1, -1, 76, -1],\n",
    "    [-1, 51, 87, -1, -1],\n",
    "    [71, -1, 67, -1, 69]\n",
    "])\n",
    "\n",
    "n[n < 50] = -1\n",
    "n[n > 50] = 1\n",
    "n[n == 50] = 0\n",
    "print(n)"
   ]
  }
 ],
 "metadata": {
  "kernelspec": {
   "display_name": "Python 3 (ipykernel)",
   "language": "python",
   "name": "python3"
  },
  "language_info": {
   "codemirror_mode": {
    "name": "ipython",
    "version": 3
   },
   "file_extension": ".py",
   "mimetype": "text/x-python",
   "name": "python",
   "nbconvert_exporter": "python",
   "pygments_lexer": "ipython3",
   "version": "3.10.14"
  },
  "toc": {
   "base_numbering": 1,
   "nav_menu": {},
   "number_sections": true,
   "sideBar": true,
   "skip_h1_title": false,
   "title_cell": "Table of Contents",
   "title_sidebar": "Contents",
   "toc_cell": false,
   "toc_position": {},
   "toc_section_display": true,
   "toc_window_display": false
  },
  "vscode": {
   "interpreter": {
    "hash": "31f2aee4e71d21fbe5cf8b01ff0e069b9275f58929596ceb00d14d90e3e16cd6"
   }
  }
 },
 "nbformat": 4,
 "nbformat_minor": 5
}
