{
 "cells": [
  {
   "attachments": {},
   "cell_type": "markdown",
   "id": "123456",
   "metadata": {},
   "source": [
    "<div style=\"text-align:left;font-size:2em\"><span style=\"font-weight:bolder;font-size:1.25em\">SP2273 | Learning Portfolio</span><br><br><span style=\"font-weight:bold;color:darkred\">Functions (Good) Exercises</span></div>"
   ]
  },
  {
   "cell_type": "markdown",
   "id": "23a6979a-e388-48ea-83d0-87431b1478f7",
   "metadata": {},
   "source": [
    "**Exercise 1 (Celsius to Fahrenheit or Kelvin)**"
   ]
  },
  {
   "cell_type": "code",
   "execution_count": 1,
   "id": "3ccacf55-0dd3-497f-91a7-0818c075ffb5",
   "metadata": {},
   "outputs": [],
   "source": [
    "def convert_celcius(temperature_celcius, target_scale='Fahrenheit'):\n",
    "    t = float(temperature_celcius)\n",
    "    if target_scale == 'Kelvin':\n",
    "        return t + 273.15\n",
    "    else:\n",
    "        return t * 1.8 + 32"
   ]
  },
  {
   "cell_type": "markdown",
   "id": "d6a7d77a-ae3b-4063-9181-6db586672e23",
   "metadata": {},
   "source": [
    "**Exercise 2 (Fahrenheit to Celsius or Kelvin)**"
   ]
  },
  {
   "cell_type": "code",
   "execution_count": 2,
   "id": "474d8ebd-e41b-4cbc-949a-216691764734",
   "metadata": {},
   "outputs": [],
   "source": [
    "def convert_fahrenheit(temperature_fahrenheit, target_scale='Celcius'):\n",
    "    t = float(temperature_fahrenheit)\n",
    "    if target_scale == 'Kelvin':\n",
    "        return (t - 32) / 1.8 + 273.15\n",
    "    else:\n",
    "        return (t - 32) / 1.8"
   ]
  },
  {
   "cell_type": "markdown",
   "id": "eee36c97-6584-4d11-9815-53691adfac15",
   "metadata": {},
   "source": [
    "**Exercise 3 (General Temperature Conversion)**"
   ]
  },
  {
   "cell_type": "code",
   "execution_count": 5,
   "id": "cbeaecd9-2c27-42bd-90d5-772985f56d9c",
   "metadata": {},
   "outputs": [
    {
     "name": "stdin",
     "output_type": "stream",
     "text": [
      "Input temperature: 212\n",
      "Source scale: Fahrenheit\n",
      "Target scale: \n"
     ]
    },
    {
     "name": "stdout",
     "output_type": "stream",
     "text": [
      "100.0\n"
     ]
    }
   ],
   "source": [
    "def convert_temperature(temperature, source_scale, target_scale):\n",
    "    t = float(temperature)\n",
    "    if source_scale == 'Celcius':\n",
    "        return convert_celcius(t, target_scale)\n",
    "    elif source_scale == 'Fahrenheit':\n",
    "        return convert_fahrenheit(t, target_scale)\n",
    "    elif source_scale == 'Kelvin':\n",
    "        if target_scale == 'Celcius':\n",
    "            return t - 273.15\n",
    "        elif target_scale == 'Fahrenheit':\n",
    "            return (t - 273.15) * 1.8 + 32\n",
    "        else:\n",
    "            return t\n",
    "\n",
    "temp = input('Input temperature:')\n",
    "source = input('Source scale:')\n",
    "target = input('Target scale:')\n",
    "\n",
    "print(convert_temperature(temp, source, target))"
   ]
  }
 ],
 "metadata": {
  "kernelspec": {
   "display_name": "Python 3 (ipykernel)",
   "language": "python",
   "name": "python3"
  },
  "language_info": {
   "codemirror_mode": {
    "name": "ipython",
    "version": 3
   },
   "file_extension": ".py",
   "mimetype": "text/x-python",
   "name": "python",
   "nbconvert_exporter": "python",
   "pygments_lexer": "ipython3",
   "version": "3.10.14"
  },
  "toc": {
   "base_numbering": 1,
   "nav_menu": {},
   "number_sections": true,
   "sideBar": true,
   "skip_h1_title": false,
   "title_cell": "Table of Contents",
   "title_sidebar": "Contents",
   "toc_cell": false,
   "toc_position": {},
   "toc_section_display": true,
   "toc_window_display": false
  },
  "vscode": {
   "interpreter": {
    "hash": "31f2aee4e71d21fbe5cf8b01ff0e069b9275f58929596ceb00d14d90e3e16cd6"
   }
  }
 },
 "nbformat": 4,
 "nbformat_minor": 5
}
