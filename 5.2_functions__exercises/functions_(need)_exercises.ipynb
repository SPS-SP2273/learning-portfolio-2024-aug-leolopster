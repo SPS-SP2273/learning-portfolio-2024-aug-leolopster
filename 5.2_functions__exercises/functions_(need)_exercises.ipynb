{
 "cells": [
  {
   "attachments": {},
   "cell_type": "markdown",
   "id": "123456",
   "metadata": {},
   "source": [
    "<div style=\"text-align:left;font-size:2em\"><span style=\"font-weight:bolder;font-size:1.25em\">SP2273 | Learning Portfolio</span><br><br><span style=\"font-weight:bold;color:darkred\">Functions (Need) Exercises</span></div>"
   ]
  },
  {
   "cell_type": "markdown",
   "id": "5e1349a0-d909-4d79-b8fb-1c28a3df33f8",
   "metadata": {},
   "source": [
    "**Exercise 1 (Do you know why?)**\n",
    "\n",
    "The following code works as expected despite not having an else statement. Please use a Markdown cell to explain why?\n",
    "\n",
    "```\n",
    "def greeting(name):\r\n",
    "    if name == 'Batman':\r\n",
    "        return 'Hello Batman! So, nice to meet you!'\r\n",
    "    return f'Hello {name}!'\n",
    "```"
   ]
  },
  {
   "cell_type": "markdown",
   "id": "c6c61d1f-96ce-4e3f-9dd1-a19fabc7a3df",
   "metadata": {},
   "source": [
    "Answer:\n",
    "\n",
    "The function returns 'Hello Batman...' if the argument `name` is `Batman`, and returns 'Hello {name}' otherwise. Whatever the argument is, this function will be able to return a value. Therefore, we expect the code to work without an `else` statement."
   ]
  },
  {
   "cell_type": "markdown",
   "id": "fa729daa-7326-4131-b50b-ebfd051287c9",
   "metadata": {},
   "source": [
    "**Exercise 2 (Chubby or not)**\n",
    "\n",
    "Write a Python function named calculate_bmi."
   ]
  },
  {
   "cell_type": "code",
   "execution_count": 1,
   "id": "d46338e0-b798-412f-8157-bf024489cbbf",
   "metadata": {},
   "outputs": [
    {
     "name": "stdin",
     "output_type": "stream",
     "text": [
      "Input weight (kg): 60\n",
      "Input height (m): 1.75\n"
     ]
    },
    {
     "name": "stdout",
     "output_type": "stream",
     "text": [
      "BMI = 19.59\n"
     ]
    },
    {
     "data": {
      "text/plain": [
       "'Normal Weight'"
      ]
     },
     "execution_count": 1,
     "metadata": {},
     "output_type": "execute_result"
    }
   ],
   "source": [
    "def calculate_bmi(weight, height):\n",
    "    BMI = weight / (height ** 2)\n",
    "    print(f'BMI = {round(BMI, 2)}')\n",
    "    if BMI < 18.5:\n",
    "        return 'Underweight'\n",
    "    elif BMI <= 24.9:\n",
    "        return 'Normal Weight'\n",
    "    elif BMI <= 29.9:\n",
    "        return 'Overweight'\n",
    "    else:\n",
    "        return 'Obese'\n",
    "w_in = float(input('Input weight (kg):'))\n",
    "h_in = float(input('Input height (m):'))\n",
    "\n",
    "calculate_bmi(w_in, h_in)"
   ]
  },
  {
   "cell_type": "markdown",
   "id": "260ceb85-605c-4277-8794-63858ceabef2",
   "metadata": {},
   "source": [
    "**Exercise 3 (Factorials)**\n",
    "\n",
    "Write a function that accepts an integer n and returns its factorial. Ensure that your function gracefully handles negative numbers."
   ]
  },
  {
   "cell_type": "code",
   "execution_count": 6,
   "id": "46d1ca92-185d-45f1-b660-23083f65ccbb",
   "metadata": {},
   "outputs": [
    {
     "name": "stdin",
     "output_type": "stream",
     "text": [
      "Do factorial for: ada\n"
     ]
    },
    {
     "name": "stdout",
     "output_type": "stream",
     "text": [
      "What is this?\n"
     ]
    },
    {
     "name": "stdin",
     "output_type": "stream",
     "text": [
      "Do factorial for: -12\n"
     ]
    },
    {
     "name": "stdout",
     "output_type": "stream",
     "text": [
      "Cannot do this as of now.\n"
     ]
    },
    {
     "name": "stdin",
     "output_type": "stream",
     "text": [
      "Do factorial for: 9\n"
     ]
    },
    {
     "data": {
      "text/plain": [
       "362880"
      ]
     },
     "execution_count": 6,
     "metadata": {},
     "output_type": "execute_result"
    }
   ],
   "source": [
    "def fac_calc(x):\n",
    "    k = 1\n",
    "    for i in range(1, x+1):\n",
    "        k *= i\n",
    "    return k\n",
    "\n",
    "def fac():\n",
    "    while True:\n",
    "        x = input('Do factorial for:')\n",
    "        try:\n",
    "            int(x)\n",
    "        except:\n",
    "            print('What is this?')\n",
    "        else:\n",
    "            x = int(x)\n",
    "            if x < 0:\n",
    "                print('Cannot do this as of now.')\n",
    "            elif x == 0:\n",
    "                return 1\n",
    "            else:\n",
    "                return fac_calc(x)\n",
    "\n",
    "fac()"
   ]
  },
  {
   "cell_type": "code",
   "execution_count": null,
   "id": "94873ccf-3c8b-46cf-9354-d669e50d0269",
   "metadata": {},
   "outputs": [],
   "source": []
  }
 ],
 "metadata": {
  "kernelspec": {
   "display_name": "Python 3 (ipykernel)",
   "language": "python",
   "name": "python3"
  },
  "language_info": {
   "codemirror_mode": {
    "name": "ipython",
    "version": 3
   },
   "file_extension": ".py",
   "mimetype": "text/x-python",
   "name": "python",
   "nbconvert_exporter": "python",
   "pygments_lexer": "ipython3",
   "version": "3.10.14"
  },
  "toc": {
   "base_numbering": 1,
   "nav_menu": {},
   "number_sections": true,
   "sideBar": true,
   "skip_h1_title": false,
   "title_cell": "Table of Contents",
   "title_sidebar": "Contents",
   "toc_cell": false,
   "toc_position": {},
   "toc_section_display": true,
   "toc_window_display": false
  },
  "vscode": {
   "interpreter": {
    "hash": "31f2aee4e71d21fbe5cf8b01ff0e069b9275f58929596ceb00d14d90e3e16cd6"
   }
  }
 },
 "nbformat": 4,
 "nbformat_minor": 5
}
