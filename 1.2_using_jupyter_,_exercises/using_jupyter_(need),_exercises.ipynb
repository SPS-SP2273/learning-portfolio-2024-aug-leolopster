{
 "cells": [
  {
   "attachments": {},
   "cell_type": "markdown",
   "id": "123456",
   "metadata": {},
   "source": [
    "<div style=\"text-align:left;font-size:2em\"><span style=\"font-weight:bolder;font-size:1.25em\">SP2273 | Learning Portfolio</span><br><br><span style=\"font-weight:bold;color:darkred\">Using Jupyter (Need), Exercises</span></div>"
   ]
  },
  {
   "cell_type": "markdown",
   "id": "cf8309c2-78ca-426a-802e-f9669c350746",
   "metadata": {},
   "source": [
    "**Exercise 1 (Put it in Markdown)**"
   ]
  },
  {
   "attachments": {},
   "cell_type": "markdown",
   "id": "c65c6f8a",
   "metadata": {},
   "source": [
    "## 1 Quadratic Equations"
   ]
  },
  {
   "attachments": {},
   "cell_type": "markdown",
   "id": "3c563432",
   "metadata": {},
   "source": [
    "### Introduction"
   ]
  },
  {
   "cell_type": "markdown",
   "id": "28c27615-3757-46ec-ac03-76e98838a5e6",
   "metadata": {},
   "source": [
    "![](https://upload.wikimedia.org/wikipedia/commons/f/f8/Polynomialdeg2.svg)\n",
    "\n",
    "*(Image from the [Wikipedia page on Quadratic equations](https://en.wikipedia.org/wiki/Quadratic_equation))*\n",
    "\n",
    "The general form of a quadratic equation is:\n",
    "$$\n",
    "ax^2+bx+c=0\n",
    "$$"
   ]
  },
  {
   "attachments": {},
   "cell_type": "markdown",
   "id": "acb5f9ed",
   "metadata": {},
   "source": [
    "### Solutions"
   ]
  },
  {
   "cell_type": "markdown",
   "id": "53696990-89c1-414b-aedb-4bc98baefe71",
   "metadata": {},
   "source": [
    "Provided $a \\ne 0$ we can use an elementary algebraic method called completing the square to show that a quadratic equation has the following solution:\n",
    "$$\n",
    "x = \\dfrac{-b \\pm \\sqrt{b^2-4ac}}{2a}\n",
    "$$"
   ]
  },
  {
   "cell_type": "markdown",
   "id": "cd2cf4c3-d740-4069-9e61-3e10136605d2",
   "metadata": {},
   "source": [
    "### Discriminant\n",
    "The quantity $\\Delta = b^2 -4ac$ is called the discriminant of the equation and decides the nature of its solutions. The table below shows the various possibilities."
   ]
  },
  {
   "cell_type": "markdown",
   "id": "1178b8fd-223c-48d4-ae46-6235e7dd9781",
   "metadata": {},
   "source": [
    "|    **Discriminant**    |        **Roots**       |\n",
    "| :-:                    |                    :-  |\n",
    "|$\\Delta = b^2 - 4ac = 0$| A solution of $-b/(2a)$|\n",
    "|$\\Delta = b^2 - 4ac > 0$| Two distinct solutions |\n",
    "|$\\Delta = b^2 - 4ac < 0$| No real solutions; both are complex.|"
   ]
  },
  {
   "cell_type": "markdown",
   "id": "a73a91ef-3491-4be1-b6a8-70f75d05019e",
   "metadata": {},
   "source": [
    "**Exercise 2 (In Your Own Words)** In your own words, use a Markdown cell to answer the following question.\n",
    "\n",
    "1. What is a Git repository?\n",
    "\n",
    "    A git repository is a file storage space provided by Github to store code/text files, and can be accessed from client side by pushing to or pulling from the repository.\n",
    "\n",
    "2. Git keeps tracks of <ins>**changes**</ins> in the files in our repository.\n",
    "\n",
    "3. What is a commit?\n",
    "\n",
    "    A commit is an action that saves the current state of files on the local repository as a \"snapshot\" for future review or for \"pushing\" to the online repository.\n",
    "\n",
    "4. What is a push?\n",
    "\n",
    "    A push is an action that uploads the \"committed\" content to the online repository.\n",
    "\n",
    "5. What is a pull?\n",
    "\n",
    "    A pull is an action that downloads the selected version of code to a local device.\n",
    "\n",
    "6. What is the difference between GitHub and GitHub Desktop?\n",
    "\n",
    "    \"GitHub\" is the online service that stores our code in online repositories, while \"GitHub Desktop\" is the client side application installed locally that acts as a gateway between the local repository and the online Git repository, allowing us to take actions such as commit, push, and pull.\n"
   ]
  },
  {
   "cell_type": "markdown",
   "id": "7038659e-f849-4900-86bc-582542af763d",
   "metadata": {},
   "source": [
    "**Exercise 3 (A Matter of Statistics)** The mean ($\\mu$), standard deviation ($\\sigma$), and Pearson correlation coefficient ($r$) are important statistical parameters. Given variables \n",
    "x<sub>i</sub> and y<sub>i</sub> representing the $i$-th values in a dataset with $n$ pairs, use Markdown notation to write the equations for these parameters.\n",
    "\n",
    "$$\n",
    "\\mu = \\frac{1}{n}\\sum_{i=1}^{n}{x_i}\n",
    "$$\n",
    "$$\n",
    "\\sigma = \\sqrt{\\frac{1}{n}\\sum_{i=1}^{n}({x_i} - \\mu)^2}\n",
    "$$\n",
    "$$\n",
    "r = \\frac{\\sum_{i=1}^{n}({x_i} - \\mu_X)({y_i} - \\mu_Y)}{\\sqrt\\sum_{i=1}^{n}({x_i} - \\mu_X)^2\\sum_{i=1}^{n}({y_i} - \\mu_Y)^2}\n",
    "$$"
   ]
  }
 ],
 "metadata": {
  "kernelspec": {
   "display_name": "Python 3 (ipykernel)",
   "language": "python",
   "name": "python3"
  },
  "language_info": {
   "codemirror_mode": {
    "name": "ipython",
    "version": 3
   },
   "file_extension": ".py",
   "mimetype": "text/x-python",
   "name": "python",
   "nbconvert_exporter": "python",
   "pygments_lexer": "ipython3",
   "version": "3.10.14"
  },
  "toc": {
   "base_numbering": 1,
   "nav_menu": {},
   "number_sections": true,
   "sideBar": true,
   "skip_h1_title": false,
   "title_cell": "Table of Contents",
   "title_sidebar": "Contents",
   "toc_cell": false,
   "toc_position": {},
   "toc_section_display": true,
   "toc_window_display": false
  },
  "vscode": {
   "interpreter": {
    "hash": "31f2aee4e71d21fbe5cf8b01ff0e069b9275f58929596ceb00d14d90e3e16cd6"
   }
  }
 },
 "nbformat": 4,
 "nbformat_minor": 5
}
