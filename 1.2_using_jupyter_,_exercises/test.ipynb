{
 "cells": [
  {
   "cell_type": "markdown",
   "id": "ef3c077e-f5bd-4def-bd73-0fcedb870845",
   "metadata": {},
   "source": [
    "# Exercise 1"
   ]
  },
  {
   "cell_type": "markdown",
   "id": "1c7133c0-cd2d-4d06-8da7-02e08664a478",
   "metadata": {},
   "source": [
    "## 1 Quadratic Equations"
   ]
  },
  {
   "cell_type": "markdown",
   "id": "c2517b20-6b8d-461f-a7d0-dba8f0703be9",
   "metadata": {},
   "source": [
    "### Introduction\n",
    "![](https://upload.wikimedia.org/wikipedia/commons/f/f8/Polynomialdeg2.svg)\n",
    "\n",
    "*(Image from the [Wikipedia page on Quadratic equations](https://en.wikipedia.org/wiki/Quadratic_equation))*\n",
    "\n",
    "The general form of a quadratic equation is:\n",
    "$$\n",
    "ax^2+bx+c=0\n",
    "$$\n",
    "\n",
    "### Solutions\n",
    "Provided $a \\ne 0$ we can use an elementary algebraic method called completing the square to show that a quadratic equation has the following solution:\n",
    "$$\n",
    "x = \\dfrac{-b \\pm \\sqrt{b^2-4ac}}{2a}\n",
    "$$\n",
    "\n",
    "### Discriminant\n",
    "The quantity $\\Delta = b^2 -4ac$\n",
    " is called the discriminant of the equation and decides the nature of its solutions. The table below shows the various possibilities."
   ]
  },
  {
   "cell_type": "markdown",
   "id": "d9727b1b-1c20-4dce-af49-373470499642",
   "metadata": {},
   "source": [
    "# Exercise 2 "
   ]
  },
  {
   "cell_type": "markdown",
   "id": "54c17618-9286-453d-99fe-80e18132f7fe",
   "metadata": {},
   "source": [
    "1. What is a Git repository?\n",
    "\n",
    "A git repository is a file storage space provided by Github to store code/text files, and can be accessed from client side by pushing to or pulling from the repository.\n",
    "\n",
    "2. Git keeps tracks of <ins>**changes**</ins> in the files in our repository.\n",
    "\n",
    "3. What is a commit?\n",
    "\n",
    "A commit is an action that saves the current state of files on the local repository as a \"snapshot\" for future review or for \"pushing\" to the online repository.\n",
    "\n",
    "4. What is a push?\n",
    "\n",
    "A push is an action that uploads the \"committed\" content to the online repository.\n",
    "\n",
    "5. What is a pull?\n",
    "\n",
    "A pull is an action that downloads the selected version of code to a local device.\n",
    "\n",
    "6. What is the difference between GitHub and GitHub Desktop?\n",
    "\n",
    "\"GitHub\" is the online service that stores our code in online repositories, while \"GitHub Desktop\" is the client side application installed locally that acts as a gateway between the local repository and the online Git repository, allowing us to take actions such as commit, push, and pull.\n"
   ]
  },
  {
   "cell_type": "markdown",
   "id": "81cf976e-8583-4ac5-b246-5d338dd629aa",
   "metadata": {},
   "source": [
    "# Exercise 3"
   ]
  },
  {
   "cell_type": "markdown",
   "id": "c472e363-aa6b-4cfe-b65d-3c94e3895106",
   "metadata": {},
   "source": [
    "$$\n",
    "\\mu = \\frac{1}{n} \n",
    "$$"
   ]
  }
 ],
 "metadata": {
  "kernelspec": {
   "display_name": "Python 3 (ipykernel)",
   "language": "python",
   "name": "python3"
  },
  "language_info": {
   "codemirror_mode": {
    "name": "ipython",
    "version": 3
   },
   "file_extension": ".py",
   "mimetype": "text/x-python",
   "name": "python",
   "nbconvert_exporter": "python",
   "pygments_lexer": "ipython3",
   "version": "3.10.14"
  }
 },
 "nbformat": 4,
 "nbformat_minor": 5
}
